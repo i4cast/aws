{
 "cells": [
  {
   "cell_type": "markdown",
   "metadata": {},
   "source": [
    "## Train, tune, deploy and review ML algorithm/model LMVAR (long-memory vector autogressive model) from AWS Marketplace"
   ]
  },
  {
   "cell_type": "markdown",
   "metadata": {},
   "source": [
    "#### Overview of the algorithm\n",
    "  \n",
    "The long-memory vector autoregressive (LMVAR) model is developed to analyze and forecast large sets of time-series when the time-series are influenced by both (a) evolution histories of a set of unobserved factors commonly affecting all or many of the time-series and (b) evolution histories of hidden components affecting idiosyncratic components of the individual time-series.  \n",
    "  \n",
    "By applying objective data-driven constraints, the LMVAR algorithm can estimate the influences of longer histories of the unobserved common factors and hidden idiosyncratic components. The algorithm accommodates wider ranges of values of model learning parameters. The wider ranges can further enhance the power of machine learning.  \n",
    "  \n",
    "Current version of the LMVAR algorithm estimates: (a) vector autoregressive (VAR) coefficients of the common components and univariate autoregressive (AR) coefficients of the idiosyncratic components, (b) implied VAR coefficients of the vector time-series, (c) forecasts of the vector time-series, and (d) impulse response of the time-series to several simultaneous shocks. Other estimates will be added in the future releases."
   ]
  }
 ],
 "metadata": {
  "kernelspec": {
   "display_name": "Python 3 (ipykernel)",
   "language": "python",
   "name": "python3"
  },
  "language_info": {
   "codemirror_mode": {
    "name": "ipython",
    "version": 3
   },
   "file_extension": ".py",
   "mimetype": "text/x-python",
   "name": "python",
   "nbconvert_exporter": "python",
   "pygments_lexer": "ipython3",
   "version": "3.9.12"
  }
 },
 "nbformat": 4,
 "nbformat_minor": 2
}
