{
 "cells": [
  {
   "cell_type": "markdown",
   "metadata": {},
   "source": [
    "## Train, tune, deploy and review ML algorithm/model DFbVIF (dynamic factor based volatility index forecast model) from AWS Marketplace"
   ]
  },
  {
   "cell_type": "markdown",
   "metadata": {},
   "source": [
    "#### Overview of the algorithm\n",
    "  \n",
    "The dynamic factor based volatility index forecast (DFbVIF) model, [DFbVIF](https://aws.amazon.com/marketplace/pp/prodview...applicationId=AWSMPContessa), is to make multi-step forecasts of multiple volatility indexes, as well as dynamic volatility attributions.\n",
    "  \n",
    "Widely watched, reported and utilized volatility indexes include VIX and others published by [CBOE](https://www.cboe.com/), such as VIX (on S&P 500), VXD (on DJIA), VXN (on Nasdaq 100), RVX (on Russel 2000), VXEEM (on emerging market), VXEWZ (on Brazil ETF), GVZ (on gold), OVX (on crude oil), EVZ (on Euro), VXAZN (on Amazon), VXAPL (on Apple), VXGS (on Goldman Sachs), VXGOG (on Google), VXIBM (on IBM), etc.\n",
    "  \n",
    "Volatility indexes published by global financial exchanges are regarded as among crucial indicators by many economy and market participants all over the world. Well-established holistic data-driven models able to analyze and forecast volatility indexes could serve as important tools.\n",
    "  \n",
    "Many volatility indexes, all price time-series underlying these volatility indexes, and many other relevant financial time-series are \"dynamically correlated\", i.e. correlated over time and cross-sectionally. A set of \"dominant dynamic correlation characteristics\" of these large number of time-series can be extracted by widely utilized dynamic factor models (DFMs). Those \"other relevant time-series\" are information-enhancing inputs of the models. Dynamic relationships summarized by dominant dynamic factors are less likely contaminated by random noises and, as a result, more likely to make more robust forecasts.\n",
    "  \n",
    "The DFbVIF model applies dynamic factor model (DFM) volatility analysis, [DFVCM](https://aws.amazon.com/marketplace/pp/prodview...applicationId=AWSMPContessa) algorithm, on DFM-input time-series, which are multiple time-series including both price time-series underlying the volatility indexes and other information-enhancing time-series. Then, the volatility forecasts of the underlying time-series are transformed into multi-step forecasts of the multiple volatility indexes.\n",
    "  \n",
    "Current version of the [DFbVIF](https://aws.amazon.com/marketplace/pp/prodview...applicationId=AWSMPContessa) algorithm offers two transformations for volatility index forecasts and associated dynamic volatility attributions: (1) UVF method (underlying volatility forecasts as predictors) and (2) QAR method (quadratic autoregressive forecasts)."
   ]
  },
  {
   "cell_type": "markdown",
   "metadata": {},
   "source": [
    "#### Academic publications on multi-step forecasts and multivariate volatilities with dynamic factor models\n",
    "  \n",
    "L. Alessi, M. Barigozzi and M. Capasso  (2007).  \"Dynamic factor GARCH: Multivariate volatility forecast for a large number of series\".  LEM Working Paper Series, No. 2006/25, Laboratory of Economics and Management (LEM), Pisa.\n",
    "  \n",
    "C. Doz  and  P. Fuleky  (2020).  \"Chapter 2,  Dynamic Factor Models\" in Macroeconomic Forecasting in the Era of Big Data: Theory and Practice, Ed. P. Fuleky,  Advanced Studies in Theoretical and Applied Econometrics, Volume 52.  Springer.  \n",
    "  \n",
    "i4cast LLC  (2025).  \"Introduction to Multi-step DFM-based Forecasts of Multiple Volatility Indexes\".  https://github.com/i4cast/aws/tree/main/dfm-based_volatility_index_forecast_model/publication/."
   ]
  },
  {
   "cell_type": "markdown",
   "metadata": {},
   "source": [
    "#### This notebook\n",
    "\n",
    "This sample notebook shows you how to train, tune, deploy and understand a custom ML algorithm/model: [Dynamic Factor Variance-Covariance Model (DFbVIF)](https://aws.amazon.com/marketplace/pp/prodview...applicationId=AWSMPContessa), guided by common practices to [Use Algorithm and Model Package Resources](https://docs.aws.amazon.com/sagemaker/latest/dg/sagemaker-mkt-buy.html).\n",
    "\n",
    "> **Note**: This is a reference notebook and it cannot run unless you make changes suggested in the notebook."
   ]
  },
  {
   "cell_type": "markdown",
   "metadata": {},
   "source": [
    "#### Pre-requisites\n",
    "\n",
    "1. **Note**: This notebook contains elements which render correctly in Jupyter interface. Open this notebook from an Amazon SageMaker Notebook Instance or Amazon SageMaker Studio.\n",
    "1. Ensure that IAM role used has **AmazonSageMakerFullAccess**\n",
    "1. Some hands-on experience using [Amazon SageMaker](https://aws.amazon.com/sagemaker/).\n",
    "1. To use this algorithm successfully, ensure that:\n",
    "    1. Either your IAM role has these three permissions and you have authority to make AWS Marketplace subscriptions in the AWS account used: \n",
    "        1. **aws-marketplace:ViewSubscriptions**\n",
    "        1. **aws-marketplace:Unsubscribe**\n",
    "        1. **aws-marketplace:Subscribe**  \n",
    "    1. or your AWS account has a subscription to [Dynamic Factor Based Volatility Index Forecast Model (DFbVIF)](https://aws.amazon.com/marketplace/pp/prodview...applicationId=AWSMPContessa)"
   ]
  },
  {
   "cell_type": "markdown",
   "metadata": {},
   "source": [
    "#### Contents\n",
    "\n",
    "1. [Subscribe to the algorithm](#1.-Subscribe-to-the-algorithm)\n",
    "    1. [Subscription](#1.1.-Subscription)\n",
    "    1. [Prepare relevant environment](#1.2.-Prepare-relevant-environment)\n",
    "1. [Prepare dataset](#2.-Prepare-dataset)\n",
    "    1. [Dataset format expected by the algorithm](#2.1.-Dataset-format-expected-by-the-algorithm)\n",
    "    1. [Configure and visualize training dataset](#2.2.-Configure-and-visualize-training-dataset)\n",
    "    1. [Upload datasets to Amazon S3](#2.3.-Upload-datasets-to-Amazon-S3)\n",
    "1. [Train a machine learning model](#3.-Train-a-machine-learning-model)\n",
    "    1. [Set hyperparameters](#3.1.-Set-hyperparameters)\n",
    "    1. [Train a model](#3.2.-Train-a-model)\n",
    "1. [Tune your model (optional)](#4.-Tune-your-model-(optional))\n",
    "    1. [Tuning Guidelines](#4.1.-Tuning-guidelines)\n",
    "    1. [Define Tuning configuration](#4.2.-Define-tuning-configuration)\n",
    "    1. [Run a model tuning job](#4.3.-Run-a-model-tuning-job)\n",
    "1. [Deploy model and verify results](#5.-Deploy-model-and-verify-results)\n",
    "    1. [Trained or tuned model](#5.1.-Trained-or-tuned-model)\n",
    "    1. [Deploy trained or tuned model](#5.2.-Deploy-trained-or-tuned-model)\n",
    "    1. [Create input payload](#5.3.-Create-input-payload)\n",
    "    1. [Perform real-time inference](#5.4.-Perform-real-time-inference)\n",
    "1. [Perform Batch inference](#6.-Perform-batch-inference)\n",
    "    1. [Batch transform](#6.1.-Batch-transform)\n",
    "    1. [Delete the model](#6.2.-Delete-the-model)\n",
    "1. [Model review by using Transformer (optional)](#7.-Model-review-by-using-Transformer-(optional))\n",
    "    1. [Available DFbVIF model output data items](#7.1.-Available-DFbVIF-model-output-data-items)\n",
    "    1. [Select DFbVIF model output data item for review](#7.2.-Select-DFbVIF-model-output-data-item-for-review)\n",
    "    1. [Model output review with Transformer](#7.3.-Model-output-review-with-Transformer)\n",
    "1. [Clean-up](#8.-Clean-up)\n",
    "    1. [Delete endpoint and model](#8.1.-Delete-endpoint-and-model)\n",
    "    1. [Unsubscribe to the listing (optional)](#8.2.-Unsubscribe-to-the-listing-(optional))"
   ]
  },
  {
   "cell_type": "markdown",
   "metadata": {},
   "source": [
    "#### Usage instructions\n",
    "\n",
    "You can run this notebook one cell at a time (By using Shift+Enter for running a cell)."
   ]
  },
  {
   "cell_type": "markdown",
   "metadata": {},
   "source": [
    "#### Sagemaker Notebook\n",
    "\n",
    "For readers who like to review how to use Sagemaker Notebook in general, following Sagemaker documentation pages are best resources.  \n",
    "    [Get Started with Amazon SageMaker Notebook Instances](https://docs.aws.amazon.com/sagemaker/latest/dg/gs-console.html)  \n",
    "    [Step 1: Create an Amazon SageMaker Notebook Instance](https://docs.aws.amazon.com/sagemaker/latest/dg/gs-setup-working-env.html)  \n",
    "    [Step 2: Create a Jupyter Notebook](https://docs.aws.amazon.com/sagemaker/latest/dg/ex1-prepare.html)  \n",
    "    [Step 3: Download, Explore, and Transform a Dataset](https://docs.aws.amazon.com/sagemaker/latest/dg/ex1-preprocess-data.html)  \n",
    "    [Step 4: Train a Model](https://docs.aws.amazon.com/sagemaker/latest/dg/ex1-train-model.html)  \n",
    "    [Step 5: Deploy the Model to Amazon EC2](https://docs.aws.amazon.com/sagemaker/latest/dg/ex1-model-deployment.html)  \n",
    "    [Step 6: Evaluate the Model](https://docs.aws.amazon.com/sagemaker/latest/dg/ex1-test-model.html)  \n",
    "    [Step 7: Clean Up](https://docs.aws.amazon.com/sagemaker/latest/dg/ex1-cleanup.html)"
   ]
  },
  {
   "cell_type": "markdown",
   "metadata": {},
   "source": [
    "### 1. Subscribe to the algorithm"
   ]
  }
 ],
 "metadata": {
  "kernelspec": {
   "display_name": "conda_python3",
   "language": "python",
   "name": "conda_python3"
  },
  "language_info": {
   "codemirror_mode": {
    "name": "ipython",
    "version": 3
   },
   "file_extension": ".py",
   "mimetype": "text/x-python",
   "name": "python",
   "nbconvert_exporter": "python",
   "pygments_lexer": "ipython3",
   "version": "3.10.16"
  }
 },
 "nbformat": 4,
 "nbformat_minor": 4
}
